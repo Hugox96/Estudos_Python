{
 "cells": [
  {
   "cell_type": "code",
   "execution_count": null,
   "metadata": {},
   "outputs": [],
   "source": [
    "import pandas as pd\n",
    "\n",
    "arquivo = pd.read_csv('data.csv')\n",
    "\n",
    "#print(arquivo.to_string()) neste caso é melhor ler o dataframe diretamente\n",
    "arquivo.head(50)"
   ]
  }
 ],
 "metadata": {
  "language_info": {
   "name": "python"
  },
  "orig_nbformat": 4
 },
 "nbformat": 4,
 "nbformat_minor": 2
}
