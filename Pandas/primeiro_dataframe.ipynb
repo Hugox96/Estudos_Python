{
 "cells": [
  {
   "cell_type": "code",
   "execution_count": 16,
   "metadata": {},
   "outputs": [
    {
     "name": "stdout",
     "output_type": "stream",
     "text": [
      "      Nomes  Notas1  Notas2\n",
      "0      Hugo       5       8\n",
      "1     Lucas       6       9\n",
      "2  Henrique       7       6\n"
     ]
    },
    {
     "data": {
      "text/plain": [
       "{'cars': ['BMW', 'Volvo', 'Ford'], 'passings': [3, 7, 2]}"
      ]
     },
     "execution_count": 16,
     "metadata": {},
     "output_type": "execute_result"
    }
   ],
   "source": [
    "import pandas \n",
    "\n",
    "Escola = {\n",
    "    'Nomes' :[\"Hugo\", \"Lucas\" , \"Henrique\"],\n",
    "    'Notas1':[5, 6 , 7],\n",
    "    'Notas2':[8, 9 , 6]\n",
    "}\n",
    "\n",
    "myvar = pandas.DataFrame(Escola)\n",
    "\n",
    "print(myvar)\n",
    "\n",
    "\n"
   ]
  }
 ],
 "metadata": {
  "language_info": {
   "name": "python"
  },
  "orig_nbformat": 4
 },
 "nbformat": 4,
 "nbformat_minor": 2
}
